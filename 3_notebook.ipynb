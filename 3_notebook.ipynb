{
 "cells": [
  {
   "cell_type": "markdown",
   "metadata": {},
   "source": [
    "## Creando Arrays\n",
    "\n",
    "Numpy nos da varios métodos muy eficientes para poder crear arrays desde 0. El primero es *arange*. Veamos algunos ejemplos."
   ]
  },
  {
   "cell_type": "code",
   "execution_count": 4,
   "metadata": {},
   "outputs": [
    {
     "name": "stdout",
     "output_type": "stream",
     "text": [
      "[ 0  1  2  3  4  5  6  7  8  9 10 11 12 13 14 15 16 17 18 19]\n"
     ]
    }
   ],
   "source": [
    "import numpy as np\n",
    "\n",
    "my_array = np.arange(20)\n",
    "print(my_array)"
   ]
  },
  {
   "cell_type": "code",
   "execution_count": 5,
   "metadata": {},
   "outputs": [
    {
     "name": "stdout",
     "output_type": "stream",
     "text": [
      "[10 11 12 13 14]\n"
     ]
    }
   ],
   "source": [
    "my_array = np.arange(10,15)\n",
    "print(my_array)"
   ]
  },
  {
   "cell_type": "code",
   "execution_count": 6,
   "metadata": {},
   "outputs": [
    {
     "name": "stdout",
     "output_type": "stream",
     "text": [
      "[20 22 24 26 28 30 32 34 36 38]\n"
     ]
    }
   ],
   "source": [
    "my_array = np.arange(20,40,2)\n",
    "print(my_array)"
   ]
  },
  {
   "cell_type": "markdown",
   "metadata": {},
   "source": [
    "Si queremos un arreglo de ceros, usamos el metodo *zeros*. "
   ]
  },
  {
   "cell_type": "code",
   "execution_count": 15,
   "metadata": {},
   "outputs": [
    {
     "name": "stdout",
     "output_type": "stream",
     "text": [
      "[0. 0. 0.]\n",
      "\n",
      "[[[0.]\n",
      "  [0.]]\n",
      "\n",
      " [[0.]\n",
      "  [0.]]\n",
      "\n",
      " [[0.]\n",
      "  [0.]]]\n",
      "la dimension del arreglo es: 3\n"
     ]
    }
   ],
   "source": [
    "print(np.zeros(3))\n",
    "print('')\n",
    "my_array = np.zeros((3,2,1))\n",
    "print(my_array)\n",
    "print('la dimension del arreglo es:',my_array.ndim)"
   ]
  },
  {
   "cell_type": "markdown",
   "metadata": {},
   "source": [
    "En el codigo anterior, hemos creado un tensor de dimension 3, donde hay tres grupos diferentes, y en cada grupo hay un matriz de 2x1. Igualmene, existe el metodo *ones* para crear arreglos exclusivamente con 1's.\n",
    "\n",
    "Otro metodo muy importante es *linspace*, cuyos argumentos son un inicio, un final, y el tamaño del arreglo"
   ]
  },
  {
   "cell_type": "code",
   "execution_count": 19,
   "metadata": {},
   "outputs": [
    {
     "name": "stdout",
     "output_type": "stream",
     "text": [
      "[0.  0.5 1.  1.5 2.  2.5 3.  3.5 4.  4.5 5. ]\n",
      "tamaño del arreglo 11\n"
     ]
    }
   ],
   "source": [
    "my_array = np.linspace(0,5,11)\n",
    "print(my_array)\n",
    "print(f'tamaño del arreglo {my_array.shape[0]}')"
   ]
  },
  {
   "cell_type": "markdown",
   "metadata": {},
   "source": [
    "Para los amantes del algebra lineal, es muy util crear una matriz diagonal de solo unos"
   ]
  },
  {
   "cell_type": "code",
   "execution_count": 20,
   "metadata": {},
   "outputs": [
    {
     "name": "stdout",
     "output_type": "stream",
     "text": [
      "[[1. 0. 0. 0.]\n",
      " [0. 1. 0. 0.]\n",
      " [0. 0. 1. 0.]\n",
      " [0. 0. 0. 1.]]\n"
     ]
    }
   ],
   "source": [
    "my_array = np.eye(4)\n",
    "print(my_array)"
   ]
  },
  {
   "cell_type": "markdown",
   "metadata": {},
   "source": [
    "Para generar valores aleatorios, tenemos varias opciones\n",
    "\n",
    "- tensores, matrices, con numeros aleatorios entre 0 y 1: rand\n",
    "- enteros aleatorios, tambien matrices y tensores: randint"
   ]
  },
  {
   "cell_type": "code",
   "execution_count": 31,
   "metadata": {},
   "outputs": [
    {
     "name": "stdout",
     "output_type": "stream",
     "text": [
      "0.7050683112861855\n",
      "\n",
      "[0.53365617 0.71963727]\n",
      "\n",
      "[[[0.56389271 0.78953149 0.53542302]]\n",
      "\n",
      " [[0.17013439 0.77979397 0.32482876]]]\n"
     ]
    }
   ],
   "source": [
    "print(np.random.rand())\n",
    "print('')\n",
    "my_array = np.random.rand(2)\n",
    "print(my_array)\n",
    "my_tensor = np.random.rand(2,1,3)\n",
    "print('')\n",
    "print(my_tensor)"
   ]
  },
  {
   "cell_type": "code",
   "execution_count": 38,
   "metadata": {},
   "outputs": [
    {
     "name": "stdout",
     "output_type": "stream",
     "text": [
      "5\n",
      "\n",
      "matriz\n",
      "[[9 9]\n",
      " [7 9]]\n",
      "\n",
      "tensor\n",
      "[[[12]\n",
      "  [17]]\n",
      "\n",
      " [[23]\n",
      "  [ 0]]\n",
      "\n",
      " [[11]\n",
      "  [18]]]\n"
     ]
    }
   ],
   "source": [
    "print(np.random.randint(5,10))\n",
    "print('')\n",
    "print('matriz')\n",
    "my_array = np.random.randint(5,10,(2,2))\n",
    "print(my_array)\n",
    "my_tensor = np.random.randint(0,25,(3,2,1))\n",
    "print('')\n",
    "print('tensor')\n",
    "print(my_tensor)\n"
   ]
  },
  {
   "cell_type": "markdown",
   "metadata": {},
   "source": [
    "## Shape and Reshape\n",
    "\n",
    "- Shape: identificar las formas de un arreglo"
   ]
  },
  {
   "cell_type": "code",
   "execution_count": 41,
   "metadata": {},
   "outputs": [
    {
     "name": "stdout",
     "output_type": "stream",
     "text": [
      "[[ 1 -3 -1]\n",
      " [ 4 -1  2]]\n",
      "\n",
      "el arreglo tiene 2 filas, y 3 columnas\n"
     ]
    }
   ],
   "source": [
    "import numpy as np\n",
    "\n",
    "my_array = np.random.randint(-5,5,(2,3))\n",
    "print(my_array)\n",
    "print('')\n",
    "print(f'el arreglo tiene {my_array.shape[0]} filas, y {my_array.shape[1]} columnas')"
   ]
  },
  {
   "cell_type": "markdown",
   "metadata": {},
   "source": [
    "- Reshape: cambiar la forma del arreglo"
   ]
  },
  {
   "cell_type": "code",
   "execution_count": 42,
   "metadata": {},
   "outputs": [
    {
     "name": "stdout",
     "output_type": "stream",
     "text": [
      "[[ 1]\n",
      " [-3]\n",
      " [-1]\n",
      " [ 4]\n",
      " [-1]\n",
      " [ 2]]\n"
     ]
    }
   ],
   "source": [
    "my_array = my_array.reshape(6,1)\n",
    "print(my_array)"
   ]
  },
  {
   "cell_type": "code",
   "execution_count": 43,
   "metadata": {},
   "outputs": [
    {
     "name": "stdout",
     "output_type": "stream",
     "text": [
      "[[ 1 -3]\n",
      " [-1  4]\n",
      " [-1  2]]\n"
     ]
    }
   ],
   "source": [
    "my_array = my_array.reshape(3,2)\n",
    "print(my_array)"
   ]
  },
  {
   "cell_type": "code",
   "execution_count": 46,
   "metadata": {},
   "outputs": [
    {
     "name": "stdout",
     "output_type": "stream",
     "text": [
      "[[[ 1]\n",
      "  [-3]\n",
      "  [-1]]\n",
      "\n",
      " [[ 4]\n",
      "  [-1]\n",
      "  [ 2]]]\n"
     ]
    }
   ],
   "source": [
    "my_tensor = my_array.reshape(2,3,1)\n",
    "print(my_tensor)"
   ]
  },
  {
   "cell_type": "markdown",
   "metadata": {},
   "source": [
    "Hay otra forma de aplicar *reshape* obteniendo el mismo resultado, pero con una sintaxis diferente"
   ]
  },
  {
   "cell_type": "code",
   "execution_count": 48,
   "metadata": {},
   "outputs": [
    {
     "name": "stdout",
     "output_type": "stream",
     "text": [
      "[[ 1 -2 -1  1]\n",
      " [-1  0  1 -1]\n",
      " [-2  0 -1  1]\n",
      " [-1  0 -1  0]]\n",
      "\n"
     ]
    },
    {
     "data": {
      "text/plain": [
       "array([[[ 1, -2, -1,  1],\n",
       "        [-1,  0,  1, -1]],\n",
       "\n",
       "       [[-2,  0, -1,  1],\n",
       "        [-1,  0, -1,  0]]])"
      ]
     },
     "execution_count": 48,
     "metadata": {},
     "output_type": "execute_result"
    }
   ],
   "source": [
    "my_array = np.random.randint(-2,2, (4,4))\n",
    "print(my_array)\n",
    "print('')\n",
    "np.reshape(my_array, (2,2,4))"
   ]
  },
  {
   "cell_type": "markdown",
   "metadata": {},
   "source": [
    "Para el caso anterior, hemos aplicado a reshape a una matriz 4x4, y ahora tenemos un tensor donde hay dos grupos, y en cada grupo hay una matriz de 2x4.\n",
    "\n",
    "Tambien es posible ver como se hace el *reshape* en otros lenguajes, veamos el caso de *C* y *Fortran* donde los hace de una manera muy distinta. ¿Ves la diferencia?"
   ]
  },
  {
   "cell_type": "code",
   "execution_count": 54,
   "metadata": {},
   "outputs": [
    {
     "name": "stdout",
     "output_type": "stream",
     "text": [
      "matriz original\n",
      "[[ 0  3  2  0]\n",
      " [-3 -2 -1  0]]\n",
      "\n",
      "Como lo haria C\n",
      "[[ 0  3]\n",
      " [ 2  0]\n",
      " [-3 -2]\n",
      " [-1  0]]\n",
      "\n",
      "Como lo hace Fortran\n",
      "[[ 0  2]\n",
      " [-3 -1]\n",
      " [ 3  0]\n",
      " [-2  0]]\n",
      "\n",
      "Como lo hace Python\n",
      "[[ 0  3]\n",
      " [ 2  0]\n",
      " [-3 -2]\n",
      " [-1  0]]\n"
     ]
    }
   ],
   "source": [
    "my_array = my_array = np.random.randint(-4,4, (2,4))\n",
    "print('matriz original')\n",
    "print(my_array)\n",
    "\n",
    "print('')\n",
    "print('Como lo haria C')\n",
    "print(np.reshape(my_array,(4,2), 'C'))\n",
    "\n",
    "print('')\n",
    "print('Como lo hace Fortran')\n",
    "print(np.reshape(my_array,(4,2), 'F'))\n",
    "\n",
    "print('')\n",
    "print('Como lo hace Python')\n",
    "print(np.reshape(my_array,(4,2)))"
   ]
  },
  {
   "cell_type": "markdown",
   "metadata": {},
   "source": [
    "Además, existe la opción de hacer reshape según como esté optimizado nuestro computador. En este caso es como en C. La opcion es 'A'"
   ]
  },
  {
   "cell_type": "code",
   "execution_count": 55,
   "metadata": {},
   "outputs": [
    {
     "name": "stdout",
     "output_type": "stream",
     "text": [
      "matriz original\n",
      "[[ 0  3  2  0]\n",
      " [-3 -2 -1  0]]\n",
      "\n",
      "Como esta optimizado guardado en el PC\n",
      "[[ 0  3]\n",
      " [ 2  0]\n",
      " [-3 -2]\n",
      " [-1  0]]\n"
     ]
    }
   ],
   "source": [
    "print('matriz original')\n",
    "print(my_array)\n",
    "\n",
    "print('')\n",
    "print('Como esta optimizado guardado en el PC')\n",
    "print(np.reshape(my_array,(4,2), 'A'))\n"
   ]
  },
  {
   "cell_type": "markdown",
   "metadata": {},
   "source": [
    "## Funciones Principales de Numpy\n",
    "\n",
    "Numpy tiene muchas funciones y a continuacion veremos las mas usadas. Para este ejemplo, usare una *funcion de probabilidad* uniforme para obtener muestras aleatorias entre 0 y 1. Aqui creo un matriz de 3x2 con dichas muestras"
   ]
  },
  {
   "cell_type": "code",
   "execution_count": 66,
   "metadata": {},
   "outputs": [
    {
     "name": "stdout",
     "output_type": "stream",
     "text": [
      "[[0.4443386  0.53973041]\n",
      " [0.52358638 0.36867462]\n",
      " [0.17169436 0.18104805]]\n"
     ]
    }
   ],
   "source": [
    "import numpy as np\n",
    "\n",
    "# Randomo_sample \n",
    "my_array = np.random.random_sample((3,2))\n",
    "print(my_array)"
   ]
  },
  {
   "cell_type": "markdown",
   "metadata": {},
   "source": [
    "Obteniedno el maximo y minimo, con max y min"
   ]
  },
  {
   "cell_type": "code",
   "execution_count": 64,
   "metadata": {},
   "outputs": [
    {
     "name": "stdout",
     "output_type": "stream",
     "text": [
      "el maximo valor es: 0.9468757474120865\n",
      "el minimo valor es: 0.5223273718830952\n"
     ]
    }
   ],
   "source": [
    "print('el maximo valor es:', np.max(my_array))\n",
    "print('el minimo valor es:', np.min(my_array))"
   ]
  },
  {
   "cell_type": "markdown",
   "metadata": {},
   "source": [
    "### Hallando maximos y minimos por columnas\n",
    "\n",
    "Si queremos hallar dichos valores por eje o *axis*. \n",
    "\n",
    "#### Ejemplo:\n",
    "\n",
    "Hallar los valores maximos y minimos de cada una da las columnas, nos retornara dos valores. \n"
   ]
  },
  {
   "cell_type": "code",
   "execution_count": 73,
   "metadata": {},
   "outputs": [
    {
     "name": "stdout",
     "output_type": "stream",
     "text": [
      "[0.52358638 0.53973041]\n",
      "\n",
      "el valor maximo de la columna 0 es 0.5235863789005308\n",
      "el valor maximo de la columna 1 es 0.5397304107727927\n"
     ]
    }
   ],
   "source": [
    "print(np.max(my_array,0))\n",
    "print('')\n",
    "\n",
    "maximos = my_array.max(0)\n",
    "\n",
    "i = 0\n",
    "for valor in maximos:\n",
    "    print(f'el valor maximo de la columna {i} es {valor}')\n",
    "    i+=1\n"
   ]
  },
  {
   "cell_type": "markdown",
   "metadata": {},
   "source": [
    "### ¿Y para saber cual es la posicion del maximo y minimo?\n",
    "\n",
    "Suponga queremos saber en que posicion estan los maximos por fila. Primero verifiquemos cuales son los maximos. Posteriormente usaremos el metodo *argmax*. Donde primero lo encontro"
   ]
  },
  {
   "cell_type": "code",
   "execution_count": 86,
   "metadata": {},
   "outputs": [
    {
     "name": "stdout",
     "output_type": "stream",
     "text": [
      "[[7 5 8 8 5 8 0 4 8 4]\n",
      " [9 8 5 3 7 4 6 5 2 4]]\n",
      "\n",
      "[8 9]\n",
      "\n",
      "[2 0]\n"
     ]
    }
   ],
   "source": [
    "my_array = np.random.randint(0,10,(4,5)).reshape(2,10)\n",
    "print(my_array)\n",
    "print('')\n",
    "print(my_array.max(1))\n",
    "print('')\n",
    "print(my_array.argmax(1))\n",
    "\n"
   ]
  },
  {
   "cell_type": "markdown",
   "metadata": {},
   "source": [
    "Veamolo mas bonito"
   ]
  },
  {
   "cell_type": "code",
   "execution_count": 87,
   "metadata": {},
   "outputs": [
    {
     "name": "stdout",
     "output_type": "stream",
     "text": [
      "el valor maximo de la fila 0 es 8. Y esta en la posicion 2\n",
      "el valor maximo de la fila 1 es 9. Y esta en la posicion 0\n"
     ]
    }
   ],
   "source": [
    "maximos = my_array.max(1)\n",
    "arg_max_fila = my_array.argmax(1)\n",
    "\n",
    "i=0\n",
    "for valor in maximos:\n",
    "    print(f'el valor maximo de la fila {i} es {valor}. Y esta en la posicion {arg_max_fila[i]}')\n",
    "    i+=1"
   ]
  },
  {
   "cell_type": "markdown",
   "metadata": {},
   "source": [
    "### Y la distancia de maximo a minimo o pico a pico\n",
    "\n",
    "En este caso lo haremos primero de toda la matriz, y luego por columna"
   ]
  },
  {
   "cell_type": "code",
   "execution_count": 91,
   "metadata": {},
   "outputs": [
    {
     "name": "stdout",
     "output_type": "stream",
     "text": [
      "[[7 5 8 8 5 8 0 4 8 4]\n",
      " [9 8 5 3 7 4 6 5 2 4]]\n",
      "\n",
      "distancia pico a pico 9\n",
      "\n",
      "ptp por columna [2 3 3 5 2 4 6 1 6 0]\n"
     ]
    }
   ],
   "source": [
    "print(my_array)\n",
    "print('')\n",
    "print('distancia pico a pico',my_array.ptp())\n",
    "print('')\n",
    "print('ptp por columna',my_array.ptp(0))"
   ]
  },
  {
   "cell_type": "markdown",
   "metadata": {},
   "source": [
    "### Funciones Estadisticas\n",
    "\n",
    "Sea un arreglo de 30 numeros aleatorios del 50 al 70 que representan los pesos en Kg de un lote de cerdos. Generemos el arreglo y ordenemolo"
   ]
  },
  {
   "cell_type": "code",
   "execution_count": 121,
   "metadata": {},
   "outputs": [
    {
     "name": "stdout",
     "output_type": "stream",
     "text": [
      "[51 51 53 53 54 54 55 56 57 58 58 60 60 61 61 62 62 62 62 62 64 64 65 65\n",
      " 67 67 67 67 69 69]\n"
     ]
    }
   ],
   "source": [
    "my_array = np.random.randint(50,70,30)\n",
    "my_array.sort()\n",
    "print(my_array)"
   ]
  },
  {
   "cell_type": "markdown",
   "metadata": {},
   "source": [
    "#### Mediana"
   ]
  },
  {
   "cell_type": "markdown",
   "metadata": {},
   "source": [
    "Primero manualmente, y luego con numpy. Recuerda la mediana es el valor que esta justo en la mitad. Y como es un conjunto par, es equivalente al promedio de los dos valores que estan justo en la mitad.\n",
    "\n",
    "Ambos valores deben ser iguales"
   ]
  },
  {
   "cell_type": "code",
   "execution_count": 122,
   "metadata": {},
   "outputs": [
    {
     "name": "stdout",
     "output_type": "stream",
     "text": [
      "62\n",
      "61\n",
      "\n",
      "mediana =  61.5\n"
     ]
    }
   ],
   "source": [
    "print(my_array[-15])\n",
    "print(my_array[14])\n",
    "print('')\n",
    "\n",
    "mediana = my_array[-15], my_array[14]\n",
    "\n",
    "print('mediana = ', np.average(mediana))\n"
   ]
  },
  {
   "cell_type": "code",
   "execution_count": 123,
   "metadata": {},
   "outputs": [
    {
     "data": {
      "text/plain": [
       "61.5"
      ]
     },
     "execution_count": 123,
     "metadata": {},
     "output_type": "execute_result"
    }
   ],
   "source": [
    "np.median(my_array)"
   ]
  },
  {
   "cell_type": "markdown",
   "metadata": {},
   "source": [
    "#### Desviacion estandar, Media y Varianza"
   ]
  },
  {
   "cell_type": "code",
   "execution_count": 124,
   "metadata": {},
   "outputs": [
    {
     "name": "stdout",
     "output_type": "stream",
     "text": [
      "el conjunto de datos tiene una STD de 5.302410353372847 y media 60.53333333333333\n",
      "la varianza(28.115555555555556) es el cuadrado de la STD(5.302410353372847)\n"
     ]
    }
   ],
   "source": [
    "print(f'el conjunto de datos tiene una STD de {my_array.std()} y media {my_array.mean()}')\n",
    "print(f'la varianza({my_array.var()}) es el cuadrado de la STD({my_array.std()})')"
   ]
  },
  {
   "cell_type": "markdown",
   "metadata": {},
   "source": [
    "#### Cuartiles y Percentiles\n",
    "\n",
    "Usar *percentile*:\n",
    "\n",
    "- El percentil 50 debe coincidir con la mediana\n",
    "- El percentil 25 debe coincidir con el primer cuartil(Q1)\n",
    "- El percientil 75 debe coincidir con el ultimo cuartil(Q3)\n",
    "\n",
    "No encontre una funcin especifica para los cuartiles, pero creo se puede hallar con la misma funcion"
   ]
  },
  {
   "cell_type": "code",
   "execution_count": 128,
   "metadata": {},
   "outputs": [
    {
     "name": "stdout",
     "output_type": "stream",
     "text": [
      "[51 51 53 53 54 54 55 56 57 58 58 60 60 61 61 62 62 62 62 62 64 64 65 65\n",
      " 67 67 67 67 69 69]\n",
      "\n",
      "percentil(50) =  61.5\n"
     ]
    }
   ],
   "source": [
    "print(my_array)\n",
    "print('')\n",
    "print('percentil(50) = ', np.percentile(my_array,50))"
   ]
  },
  {
   "cell_type": "code",
   "execution_count": 133,
   "metadata": {},
   "outputs": [
    {
     "name": "stdout",
     "output_type": "stream",
     "text": [
      "56.25\n",
      "64.75\n"
     ]
    }
   ],
   "source": [
    "print(np.percentile(my_array,25))\n",
    "print(np.percentile(my_array,75))\n"
   ]
  },
  {
   "cell_type": "markdown",
   "metadata": {},
   "source": [
    "### Concatenando arreglos"
   ]
  },
  {
   "cell_type": "code",
   "execution_count": 142,
   "metadata": {},
   "outputs": [
    {
     "name": "stdout",
     "output_type": "stream",
     "text": [
      "[[1 2]\n",
      " [3 4]]\n",
      "[5 6]\n"
     ]
    }
   ],
   "source": [
    "matriz = np.array([[1,2],[3,4]])\n",
    "my_array = np.array([5,6])\n",
    "print(matriz)\n",
    "print(my_array)"
   ]
  },
  {
   "cell_type": "code",
   "execution_count": 143,
   "metadata": {},
   "outputs": [
    {
     "ename": "ValueError",
     "evalue": "all the input arrays must have same number of dimensions, but the array at index 0 has 2 dimension(s) and the array at index 1 has 1 dimension(s)",
     "output_type": "error",
     "traceback": [
      "\u001b[0;31m---------------------------------------------------------------------------\u001b[0m",
      "\u001b[0;31mValueError\u001b[0m                                Traceback (most recent call last)",
      "\u001b[1;32m/home/julian/basico_manipulacion_pandas_numpy/3_notebook.ipynb Cell 51\u001b[0m in \u001b[0;36m<cell line: 1>\u001b[0;34m()\u001b[0m\n\u001b[0;32m----> <a href='vscode-notebook-cell://wsl%2Bubuntu-20.04/home/julian/basico_manipulacion_pandas_numpy/3_notebook.ipynb#Y105sdnNjb2RlLXJlbW90ZQ%3D%3D?line=0'>1</a>\u001b[0m np\u001b[39m.\u001b[39;49mconcatenate((matriz,my_array), axis\u001b[39m=\u001b[39;49m\u001b[39m0\u001b[39;49m)\n",
      "File \u001b[0;32m<__array_function__ internals>:180\u001b[0m, in \u001b[0;36mconcatenate\u001b[0;34m(*args, **kwargs)\u001b[0m\n",
      "\u001b[0;31mValueError\u001b[0m: all the input arrays must have same number of dimensions, but the array at index 0 has 2 dimension(s) and the array at index 1 has 1 dimension(s)"
     ]
    }
   ],
   "source": [
    "np.concatenate((matriz,my_array), axis=0)"
   ]
  },
  {
   "cell_type": "markdown",
   "metadata": {},
   "source": [
    "Acaba de generar un error porque tienen diferentes dimensiones"
   ]
  },
  {
   "cell_type": "code",
   "execution_count": 144,
   "metadata": {},
   "outputs": [
    {
     "name": "stdout",
     "output_type": "stream",
     "text": [
      "2 1\n"
     ]
    }
   ],
   "source": [
    "print(matriz.ndim, my_array.ndim)"
   ]
  },
  {
   "cell_type": "markdown",
   "metadata": {},
   "source": [
    "Entonces llevemos al arreglo a la misma dimension"
   ]
  },
  {
   "cell_type": "code",
   "execution_count": 145,
   "metadata": {},
   "outputs": [
    {
     "name": "stdout",
     "output_type": "stream",
     "text": [
      "[[5 6]]\n"
     ]
    }
   ],
   "source": [
    "my_array = np.expand_dims(my_array,axis=0)\n",
    "print(my_array)"
   ]
  },
  {
   "cell_type": "code",
   "execution_count": 148,
   "metadata": {},
   "outputs": [
    {
     "data": {
      "text/plain": [
       "array([[1, 2],\n",
       "       [3, 4],\n",
       "       [5, 6]])"
      ]
     },
     "execution_count": 148,
     "metadata": {},
     "output_type": "execute_result"
    }
   ],
   "source": [
    "np.concatenate((matriz, my_array), axis=0)"
   ]
  },
  {
   "cell_type": "markdown",
   "metadata": {},
   "source": [
    "Y finalmente hemos resuelto el error y concatenado a la matriz y al vector por filas"
   ]
  },
  {
   "cell_type": "markdown",
   "metadata": {},
   "source": [
    "#### Ejemplo.\n",
    "\n",
    "Concatene el vector y la matriz anteriores pero por columnas"
   ]
  },
  {
   "cell_type": "code",
   "execution_count": 149,
   "metadata": {},
   "outputs": [
    {
     "name": "stdout",
     "output_type": "stream",
     "text": [
      "[[1 2]\n",
      " [3 4]]\n",
      "[5 6]\n"
     ]
    }
   ],
   "source": [
    "matriz = np.array([[1,2],[3,4]])\n",
    "my_array = np.array([5,6])\n",
    "print(matriz)\n",
    "print(my_array)"
   ]
  },
  {
   "cell_type": "markdown",
   "metadata": {},
   "source": [
    "Necesitamos que el vector sea de dimensions 2x1. Asi que podemos usar el comando *reshape* pero esta vez, a modo de practica, expandamos las dimensiones.\n",
    "\n",
    "Tambien se hubiera podido hacer con la transpuesta"
   ]
  },
  {
   "cell_type": "code",
   "execution_count": 150,
   "metadata": {},
   "outputs": [
    {
     "name": "stdout",
     "output_type": "stream",
     "text": [
      "[[5]\n",
      " [6]]\n"
     ]
    }
   ],
   "source": [
    "my_array = np.expand_dims(my_array, axis=1)\n",
    "print(my_array)"
   ]
  },
  {
   "cell_type": "code",
   "execution_count": 151,
   "metadata": {},
   "outputs": [
    {
     "data": {
      "text/plain": [
       "array([[1, 2, 5],\n",
       "       [3, 4, 6]])"
      ]
     },
     "execution_count": 151,
     "metadata": {},
     "output_type": "execute_result"
    }
   ],
   "source": [
    "np.concatenate((matriz, my_array), axis=1)"
   ]
  }
 ],
 "metadata": {
  "kernelspec": {
   "display_name": "Python 3.8.10 ('env': venv)",
   "language": "python",
   "name": "python3"
  },
  "language_info": {
   "codemirror_mode": {
    "name": "ipython",
    "version": 3
   },
   "file_extension": ".py",
   "mimetype": "text/x-python",
   "name": "python",
   "nbconvert_exporter": "python",
   "pygments_lexer": "ipython3",
   "version": "3.8.10"
  },
  "orig_nbformat": 4,
  "vscode": {
   "interpreter": {
    "hash": "c9de731bd188977090c57a127655a5bfc19330cceede34e78ee810237306e4af"
   }
  }
 },
 "nbformat": 4,
 "nbformat_minor": 2
}

{
 "cells": [
  {
   "cell_type": "markdown",
   "metadata": {},
   "source": [
    "## COPY: Tragedias y desgracias \n",
    "\n",
    "Supongamos partimos de un arreglo original del cual extraemos los ultimos 5 datos en otro arreglo, sobre el cual hacemos unas modificiaciones.\n",
    "\n",
    "Sin embargo, cuando veamos el contenido del arreglo original, observaremos se habra perdido informacion de forma inexplicable. ¿Porque y como evitarlo?\n",
    "\n",
    "Esto pasa haci los dos objetos sean diferentes en memoria"
   ]
  },
  {
   "cell_type": "code",
   "execution_count": 27,
   "metadata": {},
   "outputs": [
    {
     "name": "stdout",
     "output_type": "stream",
     "text": [
      "arreglo original:  [ 0  2  4  6  8 10 12 14 16 18]\n",
      "trozo del original:  [10 12 14 16 18]\n",
      "\n",
      "arreglo original: [0 2 4 6 8 0 0 0 0 0]\n"
     ]
    },
    {
     "data": {
      "text/plain": [
       "False"
      ]
     },
     "execution_count": 27,
     "metadata": {},
     "output_type": "execute_result"
    }
   ],
   "source": [
    "import numpy as np\n",
    "\n",
    "original = np.arange(0,20,2)\n",
    "print('arreglo original: ', original)\n",
    "\n",
    "trozo_original = original[-5:]\n",
    "print('trozo del original: ',trozo_original)\n",
    "\n",
    "# Asignamos ceros a todo el arreglo\n",
    "trozo_original[:] = 0 \n",
    "\n",
    "print('')\n",
    "print('arreglo original:' , original)\n",
    "\n",
    "id(trozo_original) == id(original)"
   ]
  },
  {
   "cell_type": "markdown",
   "metadata": {},
   "source": [
    "¿Terrible bug?\n",
    "\n",
    "Esto pasa en *numpy* y en muchas de las estructuras en Python. En un principio ese *trozo* se definio en base al original\n",
    "\n",
    "    trozo_original = original[-5:]\n",
    "\n",
    "Sin embargo cuando se asignan ceros, Python me dice que si bien yo como programador lo queria manejar por aparte, sigue haciendo referencia al objeto en memoria del arreglo original\n",
    "\n",
    "Cualquier cambio que ocurra va a afectar al objeto padre, por decirlo de alguna manera\n",
    "\n",
    "Para solucionarlo, usamos el metodo *copy*. Veamos el codigo corregido"
   ]
  },
  {
   "cell_type": "code",
   "execution_count": 28,
   "metadata": {},
   "outputs": [
    {
     "name": "stdout",
     "output_type": "stream",
     "text": [
      "trozo del original:  [10 12 14 16 18]\n",
      "\n",
      "arreglo original: [ 0  2  4  6  8 10 12 14 16 18]\n"
     ]
    }
   ],
   "source": [
    "original = np.arange(0,20,2)\n",
    "\n",
    "trozo_original = original.copy()\n",
    "trozo_original = trozo_original[-5:]\n",
    "print('trozo del original: ',trozo_original)\n",
    "\n",
    "# Asignamos ceros a todo el arreglo\n",
    "trozo_original[:] = 0 \n",
    "\n",
    "print('')\n",
    "print('arreglo original:' , original)"
   ]
  },
  {
   "cell_type": "markdown",
   "metadata": {},
   "source": [
    "### Listas en Python\n",
    "\n",
    "El bug que acabamos de ver con los arreglos de numpy, nos recuerda al mismo que tenemos con las listas en Python. Hechemos un recorderis.\n",
    "\n",
    "Creemos una lista original, y  hagamos una copia. Sin embargo, si hacemos una modificacion en la lista original, esta se var a ver reflejada tambien la copia, porque las dos listas hacen referencia al mismo espacio en memoria. "
   ]
  },
  {
   "cell_type": "code",
   "execution_count": 25,
   "metadata": {},
   "outputs": [
    {
     "name": "stdout",
     "output_type": "stream",
     "text": [
      "lista original: [0, -1, 2, -3, 4, -5, 6, -7, 8, -9]\n",
      "lista original modificada [0, -1, 2, -3, 4, -5, 6, -7, 8, -9, -100]\n",
      "nueva lista [0, -1, 2, -3, 4, -5, 6, -7, 8, -9, -100]\n"
     ]
    },
    {
     "data": {
      "text/plain": [
       "True"
      ]
     },
     "execution_count": 25,
     "metadata": {},
     "output_type": "execute_result"
    }
   ],
   "source": [
    "my_list = [ ((-1)**i)*i for i in range(10)]\n",
    "print('lista original:', my_list)\n",
    "\n",
    "new_list = my_list\n",
    "\n",
    "my_list.append(-100)\n",
    "\n",
    "print('lista original modificada',my_list)\n",
    "print('nueva lista', new_list)\n",
    "\n",
    "id(my_list)==id(new_list)"
   ]
  },
  {
   "cell_type": "markdown",
   "metadata": {},
   "source": [
    "#### Conclusion\n",
    "\n",
    "Ten mucho cuidado al sacar partes o trozos de un tensor o un arreglo en numpy. Lo mejor es usar el metodo *copy* y a partir de ahi hacer nuestras modificaciones.\n",
    "\n",
    "Tambien que se puede copiar el arreglo, y al mimso tiempo hacer el slicing, veamos:"
   ]
  },
  {
   "cell_type": "code",
   "execution_count": 35,
   "metadata": {},
   "outputs": [
    {
     "name": "stdout",
     "output_type": "stream",
     "text": [
      "[-5  6 -7  8 -9]\n"
     ]
    }
   ],
   "source": [
    "my_array = [ ((-1)**i)*i for i in range(10)]\n",
    "my_array = np.array(my_array)\n",
    "\n",
    "my_copy = my_array.copy()[-5:]\n",
    "print(my_copy)"
   ]
  },
  {
   "cell_type": "markdown",
   "metadata": {},
   "source": [
    "## Condiciones\n",
    "\n",
    "Ya sabemos hacer indexing, slicing, ¿Pero que si nos gustaria retornar solo los numeros del arreglo que cumplan con una condicion?\n",
    "\n",
    "Por ejemplo los numeros mayores o iguales que cero"
   ]
  },
  {
   "cell_type": "code",
   "execution_count": 42,
   "metadata": {},
   "outputs": [
    {
     "name": "stdout",
     "output_type": "stream",
     "text": [
      "my_array = [  0  -1   4  -9  16 -25  36 -49  64 -81]\n"
     ]
    }
   ],
   "source": [
    "import numpy as np\n",
    "\n",
    "my_array = [ ((-1)**i)*i**2 for i in range(10)]\n",
    "my_array = np.array(my_array, dtype='int8')\n",
    "\n",
    "print('my_array =', my_array)"
   ]
  },
  {
   "cell_type": "code",
   "execution_count": 45,
   "metadata": {},
   "outputs": [
    {
     "data": {
      "text/plain": [
       "array([ True, False,  True, False,  True, False,  True, False,  True,\n",
       "       False])"
      ]
     },
     "execution_count": 45,
     "metadata": {},
     "output_type": "execute_result"
    }
   ],
   "source": [
    "my_array >=0"
   ]
  },
  {
   "cell_type": "markdown",
   "metadata": {},
   "source": [
    "Si aplicamos una condicional tal y como lo acabamos de hacer, nos retornara una lista booleana con los elementos que cumplen esa condicion.\n",
    "\n",
    "Pero ahora, extraigamos los valores que cumplen con la condicion."
   ]
  },
  {
   "cell_type": "code",
   "execution_count": 46,
   "metadata": {},
   "outputs": [
    {
     "data": {
      "text/plain": [
       "array([ 0,  4, 16, 36, 64], dtype=int8)"
      ]
     },
     "execution_count": 46,
     "metadata": {},
     "output_type": "execute_result"
    }
   ],
   "source": [
    "condicion = my_array >=0\n",
    "\n",
    "my_array[condicion]"
   ]
  },
  {
   "cell_type": "markdown",
   "metadata": {},
   "source": [
    "Que tal si lo hacemos mas complejo: los que son mayores o iguales que cero y multiplos de 16"
   ]
  },
  {
   "cell_type": "code",
   "execution_count": 55,
   "metadata": {},
   "outputs": [
    {
     "data": {
      "text/plain": [
       "array([ 0, 16, 64], dtype=int8)"
      ]
     },
     "execution_count": 55,
     "metadata": {},
     "output_type": "execute_result"
    }
   ],
   "source": [
    "my_array[(my_array >=0) & (my_array%16 ==0)] "
   ]
  },
  {
   "cell_type": "markdown",
   "metadata": {},
   "source": [
    "Y asignarlo a un nuevo arreglo"
   ]
  },
  {
   "cell_type": "code",
   "execution_count": 59,
   "metadata": {},
   "outputs": [
    {
     "name": "stdout",
     "output_type": "stream",
     "text": [
      "[ 0 16 64]\n"
     ]
    }
   ],
   "source": [
    "new_array = my_array[(my_array >=0) & (my_array%16 ==0)] \n",
    "print(new_array)"
   ]
  },
  {
   "cell_type": "markdown",
   "metadata": {},
   "source": [
    "### ejemplo\n",
    "\n",
    "Los valores que cumplan con la condicion, de ser multiplos de 3, intercambirarlos por 127. Tener en cuenta que el tipo de dato **int8** solo soporta enteros positivos hasta el 127. Por eso cuando le daba 1000, no funcionaba, y creaba un bug"
   ]
  },
  {
   "cell_type": "code",
   "execution_count": 14,
   "metadata": {},
   "outputs": [
    {
     "name": "stdout",
     "output_type": "stream",
     "text": [
      "my_array = [  0  -1   4  -9  16 -25  36 -49  64 -81]\n",
      "[127  -1   4 127  16 -25 127 -49  64 127]\n"
     ]
    },
    {
     "data": {
      "text/plain": [
       "array([127, 127, 127, 127], dtype=int8)"
      ]
     },
     "execution_count": 14,
     "metadata": {},
     "output_type": "execute_result"
    }
   ],
   "source": [
    "import numpy as np\n",
    "\n",
    "my_array = [ ((-1)**i)*i**2 for i in range(10)]\n",
    "my_array = np.array(my_array, dtype='int8')\n",
    "\n",
    "print('my_array =', my_array)\n",
    "\n",
    "my_array[my_array%3 == 0] = 127\n",
    "\n",
    "print(my_array)\n",
    "\n",
    "my_array[my_array==127]\n"
   ]
  },
  {
   "cell_type": "markdown",
   "metadata": {},
   "source": [
    "## Operaciones\n",
    "\n",
    "Existen diferentes operaciones que se pueden usar para los arrays de NumPy.\n",
    "\n",
    "- Multipliciacion/Division de todos los valores por un escalar\n",
    "- Suma y resta de los elementos por un escalar\n",
    "- Dividir un escalar entre el mismo arreglo. \n",
    "\n",
    "#### Ejemplo\n",
    "\n",
    "Crear una lista de 10 elementos, y copiar mediante el metodo copy en una lista los ultimos 4 elemento"
   ]
  },
  {
   "cell_type": "code",
   "execution_count": 18,
   "metadata": {},
   "outputs": [
    {
     "name": "stdout",
     "output_type": "stream",
     "text": [
      "[6 7 8 9]\n"
     ]
    }
   ],
   "source": [
    "import numpy as np\n",
    "\n",
    "my_array = np.arange(10)\n",
    "my_array_1 = my_array.copy()[-4:] \n",
    "print(my_array_1)"
   ]
  },
  {
   "cell_type": "code",
   "execution_count": 19,
   "metadata": {},
   "outputs": [
    {
     "data": {
      "text/plain": [
       "array([11, 13, 15, 17])"
      ]
     },
     "execution_count": 19,
     "metadata": {},
     "output_type": "execute_result"
    }
   ],
   "source": [
    "(my_array_1 * 2) - 1"
   ]
  },
  {
   "cell_type": "code",
   "execution_count": 20,
   "metadata": {},
   "outputs": [
    {
     "data": {
      "text/plain": [
       "array([0.6, 0.7, 0.8, 0.9])"
      ]
     },
     "execution_count": 20,
     "metadata": {},
     "output_type": "execute_result"
    }
   ],
   "source": [
    "my_array_1/10"
   ]
  },
  {
   "cell_type": "code",
   "execution_count": 21,
   "metadata": {},
   "outputs": [
    {
     "data": {
      "text/plain": [
       "array([0.16666667, 0.14285714, 0.125     , 0.11111111])"
      ]
     },
     "execution_count": 21,
     "metadata": {},
     "output_type": "execute_result"
    }
   ],
   "source": [
    "1/my_array_1"
   ]
  },
  {
   "cell_type": "markdown",
   "metadata": {},
   "source": [
    "Notar que si llega haber division por cer, no dejara de ejecutar la ejecucion, pero mostrara una excepcion cuando esto ocurra para el elemento en particular"
   ]
  },
  {
   "cell_type": "code",
   "execution_count": 22,
   "metadata": {},
   "outputs": [
    {
     "name": "stderr",
     "output_type": "stream",
     "text": [
      "/tmp/ipykernel_275/545081694.py:2: RuntimeWarning: divide by zero encountered in divide\n",
      "  1/my_array_1\n"
     ]
    },
    {
     "data": {
      "text/plain": [
       "array([       inf, 1.        , 0.5       , 0.33333333])"
      ]
     },
     "execution_count": 22,
     "metadata": {},
     "output_type": "execute_result"
    }
   ],
   "source": [
    "my_array_1 = my_array.copy()[:4]\n",
    "1/my_array_1\n"
   ]
  },
  {
   "cell_type": "markdown",
   "metadata": {},
   "source": [
    "### Dado el caso que sea una matriz, tambien se pueden realizar operaciones"
   ]
  },
  {
   "cell_type": "markdown",
   "metadata": {},
   "source": [
    "Creemos dos matrices de enteros aleatorios"
   ]
  },
  {
   "cell_type": "code",
   "execution_count": 47,
   "metadata": {},
   "outputs": [
    {
     "name": "stdout",
     "output_type": "stream",
     "text": [
      "[[1 2 1]\n",
      " [0 3 2]]\n",
      "\n",
      "[[4 2 2]\n",
      " [4 4 2]]\n"
     ]
    }
   ],
   "source": [
    "matriz = np.random.randint(0,5,(2,3))\n",
    "matriz1 = np.random.randint(0,5,(2,3))\n",
    "print(matriz)\n",
    "print('')\n",
    "print(matriz1)"
   ]
  },
  {
   "cell_type": "code",
   "execution_count": 49,
   "metadata": {},
   "outputs": [
    {
     "data": {
      "text/plain": [
       "array([[ 2, -2,  0],\n",
       "       [ 4, -2, -2]])"
      ]
     },
     "execution_count": 49,
     "metadata": {},
     "output_type": "execute_result"
    }
   ],
   "source": [
    "matriz1 - 2*matriz"
   ]
  },
  {
   "cell_type": "markdown",
   "metadata": {},
   "source": [
    "*matmul* nos devuelve el producto punto entre matrices, tal y como lo hacemos en algebra lineal. Recuerda tambien puedes usar una @"
   ]
  },
  {
   "cell_type": "code",
   "execution_count": 50,
   "metadata": {},
   "outputs": [
    {
     "data": {
      "text/plain": [
       "array([[10, 14],\n",
       "       [10, 16]])"
      ]
     },
     "execution_count": 50,
     "metadata": {},
     "output_type": "execute_result"
    }
   ],
   "source": [
    "np.matmul(matriz,matriz1.T)"
   ]
  },
  {
   "cell_type": "code",
   "execution_count": 51,
   "metadata": {},
   "outputs": [
    {
     "data": {
      "text/plain": [
       "array([[10, 14],\n",
       "       [10, 16]])"
      ]
     },
     "execution_count": 51,
     "metadata": {},
     "output_type": "execute_result"
    }
   ],
   "source": [
    "matriz.dot(matriz1.T)"
   ]
  },
  {
   "cell_type": "code",
   "execution_count": 52,
   "metadata": {},
   "outputs": [
    {
     "data": {
      "text/plain": [
       "array([[10, 14],\n",
       "       [10, 16]])"
      ]
     },
     "execution_count": 52,
     "metadata": {},
     "output_type": "execute_result"
    }
   ],
   "source": [
    "matriz @ matriz1.T"
   ]
  },
  {
   "cell_type": "markdown",
   "metadata": {},
   "source": [
    "#### Otra operacion super interesante\n",
    "\n",
    "¿Te has preguntado si es posible quitar los valores repetidos en un array, y ademas saber su frecuencia relativa?"
   ]
  },
  {
   "cell_type": "code",
   "execution_count": 59,
   "metadata": {},
   "outputs": [
    {
     "name": "stdout",
     "output_type": "stream",
     "text": [
      "[-3 -2 -2  0  2  2 -3 -3 -2 -1 -1  2  2  2 -3  0  1 -1  0  1  1  0  2 -3\n",
      "  0  0 -2 -2  1  2  1 -3  0  0  2  1 -1 -3  1 -2  1 -2 -3  0  1  0 -2  0\n",
      " -2 -2]\n"
     ]
    }
   ],
   "source": [
    "my_array = np.random.randint(-3,3,(50))\n",
    "print(my_array)"
   ]
  },
  {
   "cell_type": "code",
   "execution_count": 60,
   "metadata": {},
   "outputs": [
    {
     "name": "stdout",
     "output_type": "stream",
     "text": [
      "[-3 -2 -1  0  1  2]\n"
     ]
    }
   ],
   "source": [
    "unique = np.unique(my_array)\n",
    "print(unique)"
   ]
  },
  {
   "cell_type": "code",
   "execution_count": 61,
   "metadata": {},
   "outputs": [
    {
     "name": "stdout",
     "output_type": "stream",
     "text": [
      "[ 8 10  4 11  9  8]\n"
     ]
    }
   ],
   "source": [
    "unique, occurrence = np.unique(my_array, return_counts=True)\n",
    "print(occurrence)"
   ]
  }
 ],
 "metadata": {
  "kernelspec": {
   "display_name": "Python 3.8.10 ('env': venv)",
   "language": "python",
   "name": "python3"
  },
  "language_info": {
   "codemirror_mode": {
    "name": "ipython",
    "version": 3
   },
   "file_extension": ".py",
   "mimetype": "text/x-python",
   "name": "python",
   "nbconvert_exporter": "python",
   "pygments_lexer": "ipython3",
   "version": "3.8.10"
  },
  "orig_nbformat": 4,
  "vscode": {
   "interpreter": {
    "hash": "c9de731bd188977090c57a127655a5bfc19330cceede34e78ee810237306e4af"
   }
  }
 },
 "nbformat": 4,
 "nbformat_minor": 2
}

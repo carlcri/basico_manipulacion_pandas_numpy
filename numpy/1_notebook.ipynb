{
 "cells": [
  {
   "cell_type": "markdown",
   "metadata": {},
   "source": [
    "# Curso Básico de Manipulación y Transformación de Datos con Pandas y NumPy\n",
    "\n",
    "anipula y transforma grandes cantidades de datos numéricos y en tablas con dos de las librerías más utilizadas en data science: Pandas y NumPy. Crea y utiliza DataFrames y Arrays que te permitan analizar datos de forma sencilla.\n",
    "\n",
    "- Agrega datos y maneja datos nulos en tus DataFrames.\n",
    "- Lee, filtra y combina datos en forma tabular con Pandas.\n",
    "- Utiliza condiciones para filtrar tus arrays de NumPy.\n",
    "- Maneja arrays de diferentes dimensiones con NumPy."
   ]
  },
  {
   "cell_type": "markdown",
   "metadata": {},
   "source": [
    "## ¿Porque Numpy y Pandas?\n",
    "\n",
    "Vamos a aprender de 2 librerías muy importantes para la manipulación en la ciencia de datos (Numpy y Pandas)\n",
    "\n",
    "### ¿Por qué NumPy?\n",
    "\n",
    "Es una librería enfocada al cálculo numérico y manejo de Arrays.\n",
    "\n",
    "- Es muy veloz, hasta 50 veces más rápido que usar una lista de Python o C.\n",
    "- Optimiza el almacenamiento en memoria.\n",
    "- Maneja distintos tipos de datos.\n",
    "- Es una librería muy poderosa, se pueden crear redes neuronales desde cero, y muy complejas\n",
    "\n",
    "Entiendase por *Arrays* listas organizadas de numeros\n",
    "\n",
    "### ¿Por que Pandas?\n",
    "\n",
    "Pandas está enfocada a la manipulación y análisis de datos.\n",
    "\n",
    "- Al estar construido sobre NumPy es veloz.\n",
    "- Requiere poco código para manipular los datos.\n",
    "- Soporta múltiples formatos de archivos.\n",
    "- Ordena los datos en una *alienación inteligente*: ordena los datos de manera muy adecuada y automatica\n",
    "- Se pueden manejar grandes cantidades de datos, hacer analítica y generar dashboards.\n",
    "\n",
    "Ambas se encuentran en **GitHub**, son 100% OPEN SOURCE"
   ]
  }
 ],
 "metadata": {
  "kernelspec": {
   "display_name": "Python 3.8.10 64-bit",
   "language": "python",
   "name": "python3"
  },
  "language_info": {
   "name": "python",
   "version": "3.8.10"
  },
  "orig_nbformat": 4,
  "vscode": {
   "interpreter": {
    "hash": "916dbcbb3f70747c44a77c7bcd40155683ae19c65e1c03b4aa3499c5328201f1"
   }
  }
 },
 "nbformat": 4,
 "nbformat_minor": 2
}

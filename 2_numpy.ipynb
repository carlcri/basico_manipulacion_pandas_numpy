{
 "cells": [
  {
   "cell_type": "markdown",
   "metadata": {},
   "source": [
    "## Numpy Array\n",
    "\n",
    "El array es el principal objeto de la librería. Representa datos de manera estructurada y se puede acceder a ellos a través del indexado, a un dato específico o un grupo de muchos datos específicos.\n",
    "\n",
    "Se pueden tener hasta millones de objetos en un *array*. Por lo general se empieza definiendo una lista previa de Python; veamos:"
   ]
  },
  {
   "cell_type": "code",
   "execution_count": 2,
   "metadata": {},
   "outputs": [],
   "source": [
    "import numpy as np\n",
    "\n",
    "my_list = [1,2,3]\n",
    "my_array = np.array(my_list)"
   ]
  },
  {
   "cell_type": "markdown",
   "metadata": {},
   "source": [
    "O simplemente:"
   ]
  },
  {
   "cell_type": "code",
   "execution_count": 3,
   "metadata": {},
   "outputs": [],
   "source": [
    "my_array = np.array([1,2,3])"
   ]
  },
  {
   "cell_type": "markdown",
   "metadata": {},
   "source": [
    "Veamos un ejemplo con *list comprehensions*, de todos los multiplos de 5 del 0 al 30 incrementados en 1 "
   ]
  },
  {
   "cell_type": "code",
   "execution_count": 8,
   "metadata": {},
   "outputs": [
    {
     "name": "stdout",
     "output_type": "stream",
     "text": [
      "[ 2  3  4  5  7  8  9 10 12 13 14 15 17 18 19 20 22 23 24 25 27 28 29 30]\n",
      "tipo de dato <class 'numpy.ndarray'>\n"
     ]
    }
   ],
   "source": [
    "my_list = [i+1 for i in range(30) if i%5 != 0 ]\n",
    "my_array = np.array(my_list)\n",
    "print(my_array)\n",
    "print('tipo de dato', type(my_array))"
   ]
  },
  {
   "cell_type": "markdown",
   "metadata": {},
   "source": [
    "Obsevamos que el tipo de dato es un objeto de numpy de tipo ndarray del cual hemos hablado\n",
    "\n",
    "### Creando objetos de Multiples Dimensiones\n",
    "\n",
    "El objeto anterior es de una sola dimension, pero tambien podemos tener objetos de multiples dimensiones. Para el siguiente caso, le enviamos la primera lista con los numeros del 1 al 5, la segunga con los numeros del 6 al 10, y en la tercer del 11 al 15"
   ]
  },
  {
   "cell_type": "code",
   "execution_count": 11,
   "metadata": {},
   "outputs": [
    {
     "name": "stdout",
     "output_type": "stream",
     "text": [
      "tipo de dato = <class 'list'>\n"
     ]
    }
   ],
   "source": [
    "matriz = [[1,2,3,4,5],[6,7,8,9,10],[11,12,13,14,15]]\n",
    "print('tipo de dato =', type(matriz))"
   ]
  },
  {
   "cell_type": "markdown",
   "metadata": {},
   "source": [
    "Ahora vamos a convertirla a tipo *array* de numpy"
   ]
  },
  {
   "cell_type": "code",
   "execution_count": 12,
   "metadata": {},
   "outputs": [
    {
     "name": "stdout",
     "output_type": "stream",
     "text": [
      "tipo de dato = <class 'numpy.ndarray'>\n"
     ]
    }
   ],
   "source": [
    "matriz = np.array(matriz)\n",
    "print('tipo de dato =', type(matriz))"
   ]
  },
  {
   "cell_type": "markdown",
   "metadata": {},
   "source": [
    "### Indexado\n",
    "\n",
    "El indexado nos permite acceder a los elementos de los array y matrices. Los elementos se empiezan a contar desde 0.\n",
    "\n",
    "Por ejemplo, accedamos al primer y ultimo elemento del array, y hagamos una sencilla operacion entre los mismos"
   ]
  },
  {
   "cell_type": "code",
   "execution_count": 17,
   "metadata": {},
   "outputs": [
    {
     "name": "stdout",
     "output_type": "stream",
     "text": [
      "primer elemento 2\n",
      "ultimo elemento 30\n",
      "primero + ultimo 32\n"
     ]
    }
   ],
   "source": [
    "print('primer elemento', my_array[0])\n",
    "print('ultimo elemento', my_array[-1])\n",
    "print('primero + ultimo', my_array[0]+my_array[-1])"
   ]
  },
  {
   "cell_type": "markdown",
   "metadata": {},
   "source": [
    "#### ¿Y con las matrices?"
   ]
  },
  {
   "cell_type": "code",
   "execution_count": 18,
   "metadata": {},
   "outputs": [
    {
     "name": "stdout",
     "output_type": "stream",
     "text": [
      "[1 2 3 4 5]\n"
     ]
    }
   ],
   "source": [
    "print(matriz[0])"
   ]
  },
  {
   "cell_type": "markdown",
   "metadata": {},
   "source": [
    "La razon por la que obtengo 5 valores, es porque el nivel 0, me va a ingresar a la primera posicion a nivel de filas. Si quiero indexar a nivel mas especifico, el ultimo elemento de la primera columna"
   ]
  },
  {
   "cell_type": "code",
   "execution_count": 31,
   "metadata": {},
   "outputs": [
    {
     "name": "stdout",
     "output_type": "stream",
     "text": [
      "5\n"
     ]
    }
   ],
   "source": [
    "print(matriz[0,4])"
   ]
  },
  {
   "cell_type": "markdown",
   "metadata": {},
   "source": [
    "#### Slicing\n",
    "\n",
    "Muy parecido al Slicing de Strings tal y como lo conocemos en Python. Donde el primer elemento es el comienzo y el final"
   ]
  },
  {
   "cell_type": "code",
   "execution_count": 23,
   "metadata": {},
   "outputs": [
    {
     "name": "stdout",
     "output_type": "stream",
     "text": [
      "[ 2  3  4  5  7  8  9 10 12 13 14 15 17 18 19 20 22 23 24 25 27 28 29 30]\n",
      "Del primer al quinto elemento del arreglo\n",
      "[3 4 5 7]\n"
     ]
    }
   ],
   "source": [
    "print(my_array)\n",
    "print('Del primer al quinto elemento del arreglo')\n",
    "print(my_array[1:5])"
   ]
  },
  {
   "cell_type": "markdown",
   "metadata": {},
   "source": [
    "#### ¿Y que pasa si no se ingresa uno de los valores?\n",
    "\n",
    "Para el primer caso borremos el 1, y para el segundo borremos el 5"
   ]
  },
  {
   "cell_type": "code",
   "execution_count": 24,
   "metadata": {},
   "outputs": [
    {
     "name": "stdout",
     "output_type": "stream",
     "text": [
      "Primer Caso\n",
      "[2 3 4 5 7]\n",
      "\n",
      "Segundo Caso\n",
      "[ 3  4  5  7  8  9 10 12 13 14 15 17 18 19 20 22 23 24 25 27 28 29 30]\n"
     ]
    }
   ],
   "source": [
    "print('Primer Caso')\n",
    "print(my_array[:5])\n",
    "print('')\n",
    "print('Segundo Caso')\n",
    "print(my_array[1:])"
   ]
  },
  {
   "cell_type": "markdown",
   "metadata": {},
   "source": [
    "En el primero indexa todos los elementos hasta el indice 5, y en el segundo desde, el elemento 1 hasta el final"
   ]
  },
  {
   "cell_type": "markdown",
   "metadata": {},
   "source": [
    "#### ¿Y que pasaria si lo quisiera todos los elementos pero de tres en tres?"
   ]
  },
  {
   "cell_type": "code",
   "execution_count": 25,
   "metadata": {},
   "outputs": [
    {
     "name": "stdout",
     "output_type": "stream",
     "text": [
      "[ 2  5  9 13 17 20 24 28]\n"
     ]
    }
   ],
   "source": [
    "print(my_array[::3])"
   ]
  },
  {
   "cell_type": "markdown",
   "metadata": {},
   "source": [
    "#### ¿Y si quisiera el ultimo elemento, y despues los ultimos 5 elementos?"
   ]
  },
  {
   "cell_type": "code",
   "execution_count": 27,
   "metadata": {},
   "outputs": [
    {
     "name": "stdout",
     "output_type": "stream",
     "text": [
      "ultimo elemento: 30\n",
      "ultimo cinco elementos: [25 27 28 29 30]\n"
     ]
    }
   ],
   "source": [
    "print('ultimo elemento:', my_array[-1]) \n",
    "print('ultimo cinco elementos:', my_array[-5:]) "
   ]
  },
  {
   "cell_type": "markdown",
   "metadata": {},
   "source": [
    "#### ¿Tambien se podria con matrices aplicar el Slicing?\n",
    "\n",
    "Por supuesto, supongamos que queremos indexar las dos primeras filas de la matriz"
   ]
  },
  {
   "cell_type": "code",
   "execution_count": 29,
   "metadata": {},
   "outputs": [
    {
     "name": "stdout",
     "output_type": "stream",
     "text": [
      "[[ 1  2  3  4  5]\n",
      " [ 6  7  8  9 10]\n",
      " [11 12 13 14 15]]\n",
      "\n",
      "[[ 1  2  3  4  5]\n",
      " [ 6  7  8  9 10]]\n"
     ]
    }
   ],
   "source": [
    "print(matriz)\n",
    "print('')\n",
    "print(matriz[:2])"
   ]
  },
  {
   "cell_type": "markdown",
   "metadata": {},
   "source": [
    "Ahora las dos ultimas filas, y las primeras tres columnas"
   ]
  },
  {
   "cell_type": "code",
   "execution_count": 32,
   "metadata": {},
   "outputs": [
    {
     "name": "stdout",
     "output_type": "stream",
     "text": [
      "[[ 6  7  8]\n",
      " [11 12 13]]\n"
     ]
    }
   ],
   "source": [
    "print(matriz[-2:, :3])"
   ]
  },
  {
   "cell_type": "markdown",
   "metadata": {},
   "source": [
    "## Tipos de Datos\n",
    "\n",
    "Los arrays de NumPy solo pueden contener un tipo de dato, ya que esto es lo que le confiere las ventajas de la optimización de memoria.\n",
    "\n",
    "Podemos conocer el tipo de datos del array consultando la propiedad *.dtype*"
   ]
  },
  {
   "cell_type": "code",
   "execution_count": 36,
   "metadata": {},
   "outputs": [
    {
     "name": "stdout",
     "output_type": "stream",
     "text": [
      "int64\n"
     ]
    }
   ],
   "source": [
    "import numpy as np\n",
    "\n",
    "my_array = np.array([i for i in range(10)])\n",
    "print(my_array.dtype)"
   ]
  },
  {
   "cell_type": "markdown",
   "metadata": {},
   "source": [
    "Si queremos usar otro tipo de dato, lo podemos definir en la declaración del array."
   ]
  },
  {
   "cell_type": "code",
   "execution_count": 37,
   "metadata": {},
   "outputs": [
    {
     "name": "stdout",
     "output_type": "stream",
     "text": [
      "float64\n"
     ]
    }
   ],
   "source": [
    "my_array = np.array([1,2,3,4], dtype='float64')\n",
    "print(my_array.dtype)"
   ]
  },
  {
   "cell_type": "markdown",
   "metadata": {},
   "source": [
    "Ahora vemos que los valores están con punto decimal."
   ]
  },
  {
   "cell_type": "code",
   "execution_count": 38,
   "metadata": {},
   "outputs": [
    {
     "name": "stdout",
     "output_type": "stream",
     "text": [
      "[1. 2. 3. 4.]\n"
     ]
    }
   ],
   "source": [
    "print(my_array)"
   ]
  },
  {
   "cell_type": "markdown",
   "metadata": {},
   "source": [
    "¿Puedo cambiar el tipo de dato de un arreglo si ya esta definido?\n",
    "\n",
    "Claro, con el metodo *.astype()*"
   ]
  },
  {
   "cell_type": "code",
   "execution_count": 40,
   "metadata": {},
   "outputs": [
    {
     "name": "stdout",
     "output_type": "stream",
     "text": [
      "float64\n"
     ]
    }
   ],
   "source": [
    "my_array = np.array([i for i in range(10)])\n",
    "my_array = my_array.astype(np.float64)\n",
    "print(my_array.dtype)"
   ]
  },
  {
   "cell_type": "markdown",
   "metadata": {},
   "source": [
    "También se puede cambiar a tipo booleano recordando que los números diferentes de 0 se convierten en True."
   ]
  },
  {
   "cell_type": "code",
   "execution_count": 42,
   "metadata": {},
   "outputs": [
    {
     "name": "stdout",
     "output_type": "stream",
     "text": [
      "bool\n",
      "[False  True  True  True  True  True  True  True  True  True]\n"
     ]
    }
   ],
   "source": [
    "my_array = np.array([i for i in range(10)])\n",
    "my_array = my_array.astype(np.bool_)\n",
    "print(my_array.dtype)\n",
    "print(my_array)"
   ]
  },
  {
   "cell_type": "markdown",
   "metadata": {},
   "source": [
    "También podemos convertir los datos en tipo string."
   ]
  },
  {
   "cell_type": "code",
   "execution_count": 43,
   "metadata": {},
   "outputs": [
    {
     "name": "stdout",
     "output_type": "stream",
     "text": [
      "|S21\n",
      "[b'0' b'1' b'2' b'3' b'4' b'5' b'6' b'7' b'8' b'9']\n"
     ]
    }
   ],
   "source": [
    "my_array = np.array([i for i in range(10)])\n",
    "my_array = my_array.astype(np.string_)\n",
    "print(my_array.dtype)\n",
    "print(my_array)"
   ]
  },
  {
   "cell_type": "markdown",
   "metadata": {},
   "source": [
    "De igual manera, se puede pasar de string a número."
   ]
  },
  {
   "cell_type": "code",
   "execution_count": 47,
   "metadata": {},
   "outputs": [
    {
     "name": "stdout",
     "output_type": "stream",
     "text": [
      "['3', '4', '3', '2', '4', '3']\n",
      "<U1\n",
      "[3 4 3 2 4 3]\n"
     ]
    }
   ],
   "source": [
    "my_array = list('343243')\n",
    "print(my_array)\n",
    "\n",
    "my_array = np.array(my_array)\n",
    "print(my_array.dtype)\n",
    "\n",
    "my_array = my_array.astype(np.int8)\n",
    "print(my_array)"
   ]
  },
  {
   "cell_type": "markdown",
   "metadata": {},
   "source": [
    "#### Conclusion\n",
    "\n",
    "El array de Numpy únicamente puede tener un único tipo de datos en el cual va a trabajar. No puedo tener la mitad del array en int y la otra mitad en bool.\n",
    "\n",
    "\n",
    "#### Lecturas Recomendadas\n",
    "\n",
    "https://numpy.org/doc/stable/user/basics.types.html"
   ]
  },
  {
   "cell_type": "markdown",
   "metadata": {},
   "source": [
    "## Dimensiones\n",
    "\n",
    "Dentro del mundo de la ciencia de datos se pueden tener multiples dimensiones. En las secciones anteriores habias trabajado arreglos de numpy de dimension 1 y 2, pero ahora profundizaremso en estos conceptos.\n",
    "\n",
    "![dim](./images/dim.JPG)\n"
   ]
  },
  {
   "cell_type": "markdown",
   "metadata": {},
   "source": [
    "### Un Escalar\n",
    "\n",
    "Un simple valor numerico. Usamos *ndim* para validad el numero de dimensiones, y lo haremos con todos los ejemplos"
   ]
  },
  {
   "cell_type": "code",
   "execution_count": 5,
   "metadata": {},
   "outputs": [
    {
     "name": "stdout",
     "output_type": "stream",
     "text": [
      "25\n",
      "el escalar tiene 0 dimensiones\n"
     ]
    }
   ],
   "source": [
    "scalar = np.array(25)\n",
    "print(scalar)\n",
    "print(f'el escalar tiene {scalar.ndim} dimensiones')"
   ]
  },
  {
   "cell_type": "markdown",
   "metadata": {},
   "source": [
    "### Un Vector\n",
    "\n",
    "Un arreglo de numeros. "
   ]
  },
  {
   "cell_type": "code",
   "execution_count": 8,
   "metadata": {},
   "outputs": [
    {
     "name": "stdout",
     "output_type": "stream",
     "text": [
      "[ 0  2  4  6  8 10 12 14]\n",
      "el vector tiene 1 dimension\n"
     ]
    }
   ],
   "source": [
    "vector = np.array([i for i in range(15) if i%2 == 0])\n",
    "print(vector)\n",
    "print(f'el vector tiene {vector.ndim} dimension')"
   ]
  },
  {
   "cell_type": "markdown",
   "metadata": {},
   "source": [
    "\n",
    "### Una matriz 2D\n",
    "\n",
    "Dos dimensiones. Aqui en realidad lo que quiere decir el instructor con *Ejemplos* son las *filas(observaciones individulales)* \n",
    "\n",
    "![](./images/matriz.JPG)\n",
    "\n",
    "Aqui el ejemplo es una hoja de calculo con filas y columnas\n"
   ]
  },
  {
   "cell_type": "code",
   "execution_count": 9,
   "metadata": {},
   "outputs": [
    {
     "name": "stdout",
     "output_type": "stream",
     "text": [
      "[[ 1  1  2]\n",
      " [ 3  5  8]\n",
      " [13 21 34]]\n",
      "la matriz tiene 2 dimensiones\n"
     ]
    }
   ],
   "source": [
    "matriz = np.array([[1,1,2],[3,5,8],[13,21,34]])\n",
    "print(matriz)\n",
    "print(f'la matriz tiene {matriz.ndim} dimensiones')"
   ]
  },
  {
   "cell_type": "markdown",
   "metadata": {},
   "source": [
    "\n",
    "### Tensor 3D\n",
    "\n",
    "![](./images/3dim.JPG)\n",
    "\n",
    "Para este caso, se tienen diferentes filas u obsevaciones, y una nueva dimension que es el tiempo, como cambian durante el tiempo.\n",
    "\n",
    "Se me ocurre como estudiante, cuando tenemos un Excel con las caracteristicas de una serie de productos , y diferentes hojas de calculo por cada mes u año.\n",
    "\n",
    "Los objetos se van volviendo mas y mas complejos"
   ]
  },
  {
   "cell_type": "code",
   "execution_count": 11,
   "metadata": {},
   "outputs": [
    {
     "name": "stdout",
     "output_type": "stream",
     "text": [
      "[[[ 1  1  2]\n",
      "  [ 3  5  8]\n",
      "  [13 21 34]]]\n",
      "el tensor tiene 3 dimensiones\n"
     ]
    }
   ],
   "source": [
    "tensor = np.array([[[1,1,2],[3,5,8],[13,21,34]]])\n",
    "print(tensor)\n",
    "print(f'el tensor tiene {matriz.ndim} dimensiones')"
   ]
  },
  {
   "cell_type": "code",
   "execution_count": 14,
   "metadata": {},
   "outputs": [
    {
     "name": "stdout",
     "output_type": "stream",
     "text": [
      "[[[ 1  1  2]\n",
      "  [ 3  5  8]\n",
      "  [13 21 34]]\n",
      "\n",
      " [[ 1  1  2]\n",
      "  [ 3  5  8]\n",
      "  [13 21 34]]]\n",
      "\n",
      "el nuevo tensor tiene 3 dimensiones\n"
     ]
    }
   ],
   "source": [
    "tensor = np.array([[[1,1,2],[3,5,8],[13,21,34]], [[1,1,2],[3,5,8],[13,21,34]]])\n",
    "print(tensor)\n",
    "print('')\n",
    "print(f'el nuevo tensor tiene {matriz.ndim} dimensiones')"
   ]
  },
  {
   "cell_type": "markdown",
   "metadata": {},
   "source": [
    "\n",
    "### Tensodr 4D\n",
    "\n",
    "En este caso ademas de todo lo anterior, hay una nueva dimension que representa el color, en el caso que estemos manejando imagenes.\n",
    "\n",
    "![](./images/4Dtensor.JPG)\n"
   ]
  },
  {
   "cell_type": "markdown",
   "metadata": {},
   "source": [
    "### Agregar o eliminar dimensiones\n",
    "\n"
   ]
  },
  {
   "cell_type": "code",
   "execution_count": 15,
   "metadata": {},
   "outputs": [
    {
     "name": "stdout",
     "output_type": "stream",
     "text": [
      "[[[[[1 1 2 3 5]]]]]\n"
     ]
    }
   ],
   "source": [
    "vector = np.array([1,1,2,3,5], ndmin=5)\n",
    "print(vector)"
   ]
  },
  {
   "cell_type": "markdown",
   "metadata": {},
   "source": [
    "Si por el contrario, queremos eliminar las dimensiones que no estamos utilizando, usamos el metodo *squeeze*"
   ]
  },
  {
   "cell_type": "code",
   "execution_count": 18,
   "metadata": {},
   "outputs": [
    {
     "name": "stdout",
     "output_type": "stream",
     "text": [
      "[1 1 2 3 5]\n",
      "1\n"
     ]
    }
   ],
   "source": [
    "vector = np.squeeze(vector)\n",
    "print(vector)\n",
    "print(vector.ndim)"
   ]
  },
  {
   "cell_type": "markdown",
   "metadata": {},
   "source": [
    "Si queremos expandir una unica dimension en sus ejes. Para ello usamos un metodo llamado *expand_dims*. Para el siguiente caso, se expandira una dimension en el *axis=0*. Esto quiere decir que se expandira una dimension a nivel de filas.\n",
    "\n",
    "Recordemos que para numpy y python el 0 es filas y el 1 es columnas"
   ]
  },
  {
   "cell_type": "code",
   "execution_count": 17,
   "metadata": {},
   "outputs": [
    {
     "name": "stdout",
     "output_type": "stream",
     "text": [
      "[[1 1 2 3 5]]\n",
      "2\n"
     ]
    }
   ],
   "source": [
    "expand = np.expand_dims(np.array([1,1,2,3,5]), axis=0)\n",
    "print(expand)\n",
    "print(expand.ndim)"
   ]
  },
  {
   "cell_type": "markdown",
   "metadata": {},
   "source": [
    "### Reto\n",
    "Definir un tensor de 5D. Sumarle una dimensión en cualquier eje. Borrar las dimensiones que no se usen"
   ]
  },
  {
   "cell_type": "code",
   "execution_count": 25,
   "metadata": {},
   "outputs": [
    {
     "name": "stdout",
     "output_type": "stream",
     "text": [
      "[[[[[  1   9  25  49  81 121]]]]]\n",
      "\n",
      "[[[[[[  1   9  25  49  81 121]]]]]]\n",
      "\n",
      "[  1   9  25  49  81 121]\n"
     ]
    }
   ],
   "source": [
    "vector = [i**2 for i in range(12) if i%2 != 0]\n",
    "tensor = np.array(vector, ndmin=5)\n",
    "print(tensor)\n",
    "print('')\n",
    "tensor = np.expand_dims(tensor, axis=1)\n",
    "print(tensor)\n",
    "print('')\n",
    "tensor = np.squeeze(tensor)\n",
    "print(tensor)\n"
   ]
  },
  {
   "cell_type": "markdown",
   "metadata": {},
   "source": [
    "\n",
    "### Resumen \n",
    "\n",
    "- scalar: dim = 0 Un solo dato o valor\n",
    "\n",
    "- vector: dim = 1 Listas de Python\n",
    "\n",
    "- matriz: dim = 2 Hoja de cálculo\n",
    "\n",
    "- tensor: dim > 3 Series de tiempo o Imágenes"
   ]
  },
  {
   "cell_type": "markdown",
   "metadata": {},
   "source": []
  },
  {
   "cell_type": "markdown",
   "metadata": {},
   "source": [
    "\n",
    "Supongamos creamos un arreglo unidimensional con los numeros del 20 al 35"
   ]
  },
  {
   "cell_type": "code",
   "execution_count": 3,
   "metadata": {},
   "outputs": [
    {
     "data": {
      "text/plain": [
       "35"
      ]
     },
     "execution_count": 3,
     "metadata": {},
     "output_type": "execute_result"
    }
   ],
   "source": [
    "my_array = np.arange(20,36)\n",
    "my_array[-1]"
   ]
  }
 ],
 "metadata": {
  "kernelspec": {
   "display_name": "Python 3.8.10 ('env': venv)",
   "language": "python",
   "name": "python3"
  },
  "language_info": {
   "codemirror_mode": {
    "name": "ipython",
    "version": 3
   },
   "file_extension": ".py",
   "mimetype": "text/x-python",
   "name": "python",
   "nbconvert_exporter": "python",
   "pygments_lexer": "ipython3",
   "version": "3.8.10"
  },
  "orig_nbformat": 4,
  "vscode": {
   "interpreter": {
    "hash": "c9de731bd188977090c57a127655a5bfc19330cceede34e78ee810237306e4af"
   }
  }
 },
 "nbformat": 4,
 "nbformat_minor": 2
}
